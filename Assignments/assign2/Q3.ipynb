{
 "cells": [
  {
   "cell_type": "code",
   "execution_count": 1,
   "metadata": {},
   "outputs": [],
   "source": [
    "import pandas as pd\n",
    "import numpy as np\n",
    "import matplotlib.pyplot as plt\n"
   ]
  },
  {
   "cell_type": "code",
   "execution_count": 4,
   "metadata": {},
   "outputs": [
    {
     "data": {
      "text/html": [
       "<div>\n",
       "<style scoped>\n",
       "    .dataframe tbody tr th:only-of-type {\n",
       "        vertical-align: middle;\n",
       "    }\n",
       "\n",
       "    .dataframe tbody tr th {\n",
       "        vertical-align: top;\n",
       "    }\n",
       "\n",
       "    .dataframe thead th {\n",
       "        text-align: right;\n",
       "    }\n",
       "</style>\n",
       "<table border=\"1\" class=\"dataframe\">\n",
       "  <thead>\n",
       "    <tr style=\"text-align: right;\">\n",
       "      <th></th>\n",
       "      <th>Year</th>\n",
       "      <th>Age</th>\n",
       "      <th>Gender</th>\n",
       "      <th>Educational Attainment</th>\n",
       "      <th>Personal Income</th>\n",
       "      <th>Population Count</th>\n",
       "    </tr>\n",
       "  </thead>\n",
       "  <tbody>\n",
       "    <tr>\n",
       "      <th>0</th>\n",
       "      <td>1/1/08 0:00</td>\n",
       "      <td>00 to 17</td>\n",
       "      <td>Male</td>\n",
       "      <td>College, less than 4-yr degree</td>\n",
       "      <td>C: 10,000 to 14,999</td>\n",
       "      <td>1304</td>\n",
       "    </tr>\n",
       "    <tr>\n",
       "      <th>1</th>\n",
       "      <td>1/1/08 0:00</td>\n",
       "      <td>00 to 17</td>\n",
       "      <td>Female</td>\n",
       "      <td>College, less than 4-yr degree</td>\n",
       "      <td>B: 5,000 to 9,999</td>\n",
       "      <td>1565</td>\n",
       "    </tr>\n",
       "    <tr>\n",
       "      <th>2</th>\n",
       "      <td>1/1/08 0:00</td>\n",
       "      <td>65 to 80+</td>\n",
       "      <td>Male</td>\n",
       "      <td>College, less than 4-yr degree</td>\n",
       "      <td>A: 0 to 4,999</td>\n",
       "      <td>1923</td>\n",
       "    </tr>\n",
       "    <tr>\n",
       "      <th>3</th>\n",
       "      <td>1/1/08 0:00</td>\n",
       "      <td>65 to 80+</td>\n",
       "      <td>Female</td>\n",
       "      <td>No high school diploma</td>\n",
       "      <td>H: 75,000 and over</td>\n",
       "      <td>1981</td>\n",
       "    </tr>\n",
       "    <tr>\n",
       "      <th>4</th>\n",
       "      <td>1/1/08 0:00</td>\n",
       "      <td>00 to 17</td>\n",
       "      <td>Female</td>\n",
       "      <td>No high school diploma</td>\n",
       "      <td>D: 15,000 to 24,999</td>\n",
       "      <td>2009</td>\n",
       "    </tr>\n",
       "    <tr>\n",
       "      <th>...</th>\n",
       "      <td>...</td>\n",
       "      <td>...</td>\n",
       "      <td>...</td>\n",
       "      <td>...</td>\n",
       "      <td>...</td>\n",
       "      <td>...</td>\n",
       "    </tr>\n",
       "    <tr>\n",
       "      <th>1021</th>\n",
       "      <td>1/1/14 0:00</td>\n",
       "      <td>18 to 64</td>\n",
       "      <td>Female</td>\n",
       "      <td>High school or equivalent</td>\n",
       "      <td>A: 0 to 4,999</td>\n",
       "      <td>670294</td>\n",
       "    </tr>\n",
       "    <tr>\n",
       "      <th>1022</th>\n",
       "      <td>1/1/14 0:00</td>\n",
       "      <td>18 to 64</td>\n",
       "      <td>Male</td>\n",
       "      <td>Bachelor's degree or higher</td>\n",
       "      <td>G: 50,000 to 74,999</td>\n",
       "      <td>682425</td>\n",
       "    </tr>\n",
       "    <tr>\n",
       "      <th>1023</th>\n",
       "      <td>1/1/14 0:00</td>\n",
       "      <td>18 to 64</td>\n",
       "      <td>Female</td>\n",
       "      <td>No high school diploma</td>\n",
       "      <td>A: 0 to 4,999</td>\n",
       "      <td>723208</td>\n",
       "    </tr>\n",
       "    <tr>\n",
       "      <th>1024</th>\n",
       "      <td>1/1/14 0:00</td>\n",
       "      <td>18 to 64</td>\n",
       "      <td>Female</td>\n",
       "      <td>Bachelor's degree or higher</td>\n",
       "      <td>H: 75,000 and over</td>\n",
       "      <td>953282</td>\n",
       "    </tr>\n",
       "    <tr>\n",
       "      <th>1025</th>\n",
       "      <td>1/1/14 0:00</td>\n",
       "      <td>18 to 64</td>\n",
       "      <td>Male</td>\n",
       "      <td>Bachelor's degree or higher</td>\n",
       "      <td>H: 75,000 and over</td>\n",
       "      <td>1628605</td>\n",
       "    </tr>\n",
       "  </tbody>\n",
       "</table>\n",
       "<p>1026 rows × 6 columns</p>\n",
       "</div>"
      ],
      "text/plain": [
       "             Year        Age  Gender          Educational Attainment  \\\n",
       "0     1/1/08 0:00   00 to 17    Male  College, less than 4-yr degree   \n",
       "1     1/1/08 0:00   00 to 17  Female  College, less than 4-yr degree   \n",
       "2     1/1/08 0:00  65 to 80+    Male  College, less than 4-yr degree   \n",
       "3     1/1/08 0:00  65 to 80+  Female          No high school diploma   \n",
       "4     1/1/08 0:00   00 to 17  Female          No high school diploma   \n",
       "...           ...        ...     ...                             ...   \n",
       "1021  1/1/14 0:00   18 to 64  Female       High school or equivalent   \n",
       "1022  1/1/14 0:00   18 to 64    Male     Bachelor's degree or higher   \n",
       "1023  1/1/14 0:00   18 to 64  Female          No high school diploma   \n",
       "1024  1/1/14 0:00   18 to 64  Female     Bachelor's degree or higher   \n",
       "1025  1/1/14 0:00   18 to 64    Male     Bachelor's degree or higher   \n",
       "\n",
       "          Personal Income  Population Count  \n",
       "0     C: 10,000 to 14,999              1304  \n",
       "1       B: 5,000 to 9,999              1565  \n",
       "2           A: 0 to 4,999              1923  \n",
       "3      H: 75,000 and over              1981  \n",
       "4     D: 15,000 to 24,999              2009  \n",
       "...                   ...               ...  \n",
       "1021        A: 0 to 4,999            670294  \n",
       "1022  G: 50,000 to 74,999            682425  \n",
       "1023        A: 0 to 4,999            723208  \n",
       "1024   H: 75,000 and over            953282  \n",
       "1025   H: 75,000 and over           1628605  \n",
       "\n",
       "[1026 rows x 6 columns]"
      ]
     },
     "execution_count": 4,
     "metadata": {},
     "output_type": "execute_result"
    }
   ],
   "source": [
    "df = pd.read_csv(\n",
    "    'https://github.com/flaviovdf/evcomp2018/raw/master/data/educ_inc.csv')\n",
    "df\n"
   ]
  },
  {
   "cell_type": "markdown",
   "metadata": {},
   "source": [
    "1) Group the table by Educational Attainment and sum the Population Count in each category."
   ]
  },
  {
   "cell_type": "code",
   "execution_count": 9,
   "metadata": {},
   "outputs": [
    {
     "data": {
      "text/plain": [
       "Educational Attainment\n",
       "Bachelor's degree or higher       54617676\n",
       "College, less than 4-yr degree    52137494\n",
       "High school or equivalent         42942926\n",
       "No high school diploma            40668871\n",
       "Name: Population Count, dtype: int64"
      ]
     },
     "execution_count": 9,
     "metadata": {},
     "output_type": "execute_result"
    }
   ],
   "source": [
    "edu_attain = df.groupby('Educational Attainment')[\n",
    "    'Population Count'].sum()\n",
    "edu_attain\n"
   ]
  },
  {
   "cell_type": "markdown",
   "metadata": {},
   "source": [
    "2)Analyse the percentage distribution of educational attainment among adult Californians."
   ]
  },
  {
   "cell_type": "code",
   "execution_count": 10,
   "metadata": {},
   "outputs": [
    {
     "name": "stderr",
     "output_type": "stream",
     "text": [
      "C:\\Users\\girid\\AppData\\Local\\Temp\\ipykernel_11364\\1207854908.py:1: FutureWarning: The default value of numeric_only in DataFrameGroupBy.sum is deprecated. In a future version, numeric_only will default to False. Either specify numeric_only or select only columns which should be valid for the function.\n",
      "  percent_distribution = df.loc[df['Age'] != '00 to 17'].groupby(\n"
     ]
    },
    {
     "data": {
      "text/html": [
       "<div>\n",
       "<style scoped>\n",
       "    .dataframe tbody tr th:only-of-type {\n",
       "        vertical-align: middle;\n",
       "    }\n",
       "\n",
       "    .dataframe tbody tr th {\n",
       "        vertical-align: top;\n",
       "    }\n",
       "\n",
       "    .dataframe thead th {\n",
       "        text-align: right;\n",
       "    }\n",
       "</style>\n",
       "<table border=\"1\" class=\"dataframe\">\n",
       "  <thead>\n",
       "    <tr style=\"text-align: right;\">\n",
       "      <th></th>\n",
       "      <th>Population Count</th>\n",
       "      <th>PERCENT DISTRIBUTION</th>\n",
       "    </tr>\n",
       "    <tr>\n",
       "      <th>Educational Attainment</th>\n",
       "      <th></th>\n",
       "      <th></th>\n",
       "    </tr>\n",
       "  </thead>\n",
       "  <tbody>\n",
       "    <tr>\n",
       "      <th>Bachelor's degree or higher</th>\n",
       "      <td>54603003</td>\n",
       "      <td>30.237679</td>\n",
       "    </tr>\n",
       "    <tr>\n",
       "      <th>College, less than 4-yr degree</th>\n",
       "      <td>52045952</td>\n",
       "      <td>28.821652</td>\n",
       "    </tr>\n",
       "    <tr>\n",
       "      <th>High school or equivalent</th>\n",
       "      <td>42828045</td>\n",
       "      <td>23.717023</td>\n",
       "    </tr>\n",
       "    <tr>\n",
       "      <th>No high school diploma</th>\n",
       "      <td>31102348</td>\n",
       "      <td>17.223646</td>\n",
       "    </tr>\n",
       "  </tbody>\n",
       "</table>\n",
       "</div>"
      ],
      "text/plain": [
       "                                Population Count  PERCENT DISTRIBUTION\n",
       "Educational Attainment                                                \n",
       "Bachelor's degree or higher             54603003             30.237679\n",
       "College, less than 4-yr degree          52045952             28.821652\n",
       "High school or equivalent               42828045             23.717023\n",
       "No high school diploma                  31102348             17.223646"
      ]
     },
     "execution_count": 10,
     "metadata": {},
     "output_type": "execute_result"
    }
   ],
   "source": [
    "percent_distribution = df.loc[df['Age'] != '00 to 17'].groupby(\n",
    "    'Educational Attainment').sum()\n",
    "percent_distribution['PERCENT DISTRIBUTION'] = percent_distribution['Population Count'] / \\\n",
    "    percent_distribution['Population Count'].sum() * 100\n",
    "percent_distribution\n"
   ]
  },
  {
   "cell_type": "markdown",
   "metadata": {},
   "source": [
    "3)Using pivot , get a contingency table (a table of counts) of adult Californians cross-classified by Educational Attainment and Personal Income."
   ]
  },
  {
   "cell_type": "code",
   "execution_count": 11,
   "metadata": {},
   "outputs": [
    {
     "data": {
      "text/html": [
       "<div>\n",
       "<style scoped>\n",
       "    .dataframe tbody tr th:only-of-type {\n",
       "        vertical-align: middle;\n",
       "    }\n",
       "\n",
       "    .dataframe tbody tr th {\n",
       "        vertical-align: top;\n",
       "    }\n",
       "\n",
       "    .dataframe thead th {\n",
       "        text-align: right;\n",
       "    }\n",
       "</style>\n",
       "<table border=\"1\" class=\"dataframe\">\n",
       "  <thead>\n",
       "    <tr style=\"text-align: right;\">\n",
       "      <th>Educational Attainment</th>\n",
       "      <th>Bachelor's degree or higher</th>\n",
       "      <th>College, less than 4-yr degree</th>\n",
       "      <th>High school or equivalent</th>\n",
       "      <th>No high school diploma</th>\n",
       "    </tr>\n",
       "    <tr>\n",
       "      <th>Personal Income</th>\n",
       "      <th></th>\n",
       "      <th></th>\n",
       "      <th></th>\n",
       "      <th></th>\n",
       "    </tr>\n",
       "  </thead>\n",
       "  <tbody>\n",
       "    <tr>\n",
       "      <th>A: 0 to 4,999</th>\n",
       "      <td>3159007</td>\n",
       "      <td>5919391</td>\n",
       "      <td>7123415</td>\n",
       "      <td>16959363</td>\n",
       "    </tr>\n",
       "    <tr>\n",
       "      <th>B: 5,000 to 9,999</th>\n",
       "      <td>2252588</td>\n",
       "      <td>5126391</td>\n",
       "      <td>4437069</td>\n",
       "      <td>5106194</td>\n",
       "    </tr>\n",
       "    <tr>\n",
       "      <th>C: 10,000 to 14,999</th>\n",
       "      <td>2683138</td>\n",
       "      <td>5561141</td>\n",
       "      <td>5099457</td>\n",
       "      <td>5516889</td>\n",
       "    </tr>\n",
       "    <tr>\n",
       "      <th>D: 15,000 to 24,999</th>\n",
       "      <td>5156919</td>\n",
       "      <td>8930143</td>\n",
       "      <td>8578826</td>\n",
       "      <td>6777351</td>\n",
       "    </tr>\n",
       "    <tr>\n",
       "      <th>E: 25,000 to 34,999</th>\n",
       "      <td>4945861</td>\n",
       "      <td>7120357</td>\n",
       "      <td>6108940</td>\n",
       "      <td>3055748</td>\n",
       "    </tr>\n",
       "    <tr>\n",
       "      <th>F: 35,000 to 49,999</th>\n",
       "      <td>7328963</td>\n",
       "      <td>7512053</td>\n",
       "      <td>5609304</td>\n",
       "      <td>1939568</td>\n",
       "    </tr>\n",
       "    <tr>\n",
       "      <th>G: 50,000 to 74,999</th>\n",
       "      <td>10795902</td>\n",
       "      <td>6649798</td>\n",
       "      <td>3950500</td>\n",
       "      <td>930115</td>\n",
       "    </tr>\n",
       "    <tr>\n",
       "      <th>H: 75,000 and over</th>\n",
       "      <td>18295298</td>\n",
       "      <td>5318220</td>\n",
       "      <td>2035415</td>\n",
       "      <td>383643</td>\n",
       "    </tr>\n",
       "  </tbody>\n",
       "</table>\n",
       "</div>"
      ],
      "text/plain": [
       "Educational Attainment  Bachelor's degree or higher  \\\n",
       "Personal Income                                       \n",
       "A: 0 to 4,999                               3159007   \n",
       "B: 5,000 to 9,999                           2252588   \n",
       "C: 10,000 to 14,999                         2683138   \n",
       "D: 15,000 to 24,999                         5156919   \n",
       "E: 25,000 to 34,999                         4945861   \n",
       "F: 35,000 to 49,999                         7328963   \n",
       "G: 50,000 to 74,999                        10795902   \n",
       "H: 75,000 and over                         18295298   \n",
       "\n",
       "Educational Attainment  College, less than 4-yr degree  \\\n",
       "Personal Income                                          \n",
       "A: 0 to 4,999                                  5919391   \n",
       "B: 5,000 to 9,999                              5126391   \n",
       "C: 10,000 to 14,999                            5561141   \n",
       "D: 15,000 to 24,999                            8930143   \n",
       "E: 25,000 to 34,999                            7120357   \n",
       "F: 35,000 to 49,999                            7512053   \n",
       "G: 50,000 to 74,999                            6649798   \n",
       "H: 75,000 and over                             5318220   \n",
       "\n",
       "Educational Attainment  High school or equivalent  No high school diploma  \n",
       "Personal Income                                                            \n",
       "A: 0 to 4,999                             7123415                16959363  \n",
       "B: 5,000 to 9,999                         4437069                 5106194  \n",
       "C: 10,000 to 14,999                       5099457                 5516889  \n",
       "D: 15,000 to 24,999                       8578826                 6777351  \n",
       "E: 25,000 to 34,999                       6108940                 3055748  \n",
       "F: 35,000 to 49,999                       5609304                 1939568  \n",
       "G: 50,000 to 74,999                       3950500                  930115  \n",
       "H: 75,000 and over                        2035415                  383643  "
      ]
     },
     "execution_count": 11,
     "metadata": {},
     "output_type": "execute_result"
    }
   ],
   "source": [
    "temp=df.groupby(['Educational Attainment','Personal Income'],as_index=False).sum(\"Population Count\")\n",
    "pivot=temp.pivot(index='Personal Income',columns='Educational Attainment',values=\"Population Count\")\n",
    "pivot"
   ]
  },
  {
   "cell_type": "markdown",
   "metadata": {},
   "source": [
    "4)Draw a bar chart to compare the personal income distributions of adult Californians who have no high diploma with those who have completed a Bachelor's degree or higher. (The difference in the distributions would be striking. There is a clear positive association between educational attainment and personal income)"
   ]
  },
  {
   "cell_type": "code",
   "execution_count": 12,
   "metadata": {},
   "outputs": [
    {
     "data": {
      "text/plain": [
       "<AxesSubplot: xlabel='Personal Income'>"
      ]
     },
     "execution_count": 12,
     "metadata": {},
     "output_type": "execute_result"
    },
    {
     "data": {
      "image/png": "[encoded data removed]",
      "text/plain": [
       "<Figure size 640x480 with 1 Axes>"
      ]
     },
     "metadata": {},
     "output_type": "display_data"
    }
   ],
   "source": [
    "pivot.plot(kind=\"bar\")\n"
   ]
  }
 ],
 "metadata": {
  "kernelspec": {
   "display_name": "Python 3.9.0 64-bit",
   "language": "python",
   "name": "python3"
  },
  "language_info": {
   "codemirror_mode": {
    "name": "ipython",
    "version": 3
   },
   "file_extension": ".py",
   "mimetype": "text/x-python",
   "name": "python",
   "nbconvert_exporter": "python",
   "pygments_lexer": "ipython3",
   "version": "3.9.0"
  },
  "orig_nbformat": 4,
  "vscode": {
   "interpreter": {
    "hash": "166549997bab83bf19a7d2a20cc64308ccdf6b6e5793eaf639d9ba6ac0bd7f6a"
   }
  }
 },
 "nbformat": 4,
 "nbformat_minor": 2
}
