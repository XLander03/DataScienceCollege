{
 "cells": [
  {
   "cell_type": "code",
   "execution_count": 5,
   "metadata": {},
   "outputs": [],
   "source": [
    "import numpy as np\n",
    "import pandas as pd\n",
    "import scipy.stats as st\n",
    "\n"
   ]
  },
  {
   "cell_type": "markdown",
   "metadata": {},
   "source": [
    "My roll. no: 20220\n",
    "Total plants: 929\n",
    "Number of purple plants: 725\n",
    "Simulations: 1780"
   ]
  },
  {
   "cell_type": "markdown",
   "metadata": {},
   "source": [
    "1)\n",
    "NULL Hypothesis: There is a 75% chance for a plant to be purple and 25% chance for it to be white.  \n",
    "Alternate Hypothesis: There is not a 75 and 25% chance for the plants to be purple and white respectively."
   ]
  },
  {
   "cell_type": "markdown",
   "metadata": {},
   "source": [
    "2) \n",
    "We use mean as the statistic for this model/hypothesis.\n"
   ]
  },
  {
   "cell_type": "markdown",
   "metadata": {},
   "source": [
    "3)"
   ]
  },
  {
   "cell_type": "code",
   "execution_count": null,
   "metadata": {},
   "outputs": [],
   "source": [
    "x=[1 for i in range(725)]\n",
    "y=[]\n",
    "for i in range(725):\n",
    "  y.append(\"Purple\")\n",
    "for i in range(725,929):\n",
    "  x.append(0)\n",
    "  y.append('white')\n",
    "df=pd.DataFrame({\"Color\" : y,'Value' : x})\n",
    "df \n"
   ]
  },
  {
   "cell_type": "code",
   "execution_count": null,
   "metadata": {},
   "outputs": [],
   "source": [
    "x = df.groupby('Color').mean()\n",
    "print(x)\n",
    "m = np.array(x)\n",
    "diff = m[1]-m[0]\n",
    "print(diff)\n"
   ]
  },
  {
   "cell_type": "code",
   "execution_count": null,
   "metadata": {},
   "outputs": [],
   "source": [
    "x = df.groupby('Color').mean()\n",
    "print(x)\n",
    "m = np.array(x)\n",
    "diff1 = m[1]-m[0]\n",
    "print(diff1)\n"
   ]
  },
  {
   "cell_type": "code",
   "execution_count": null,
   "metadata": {},
   "outputs": [],
   "source": [
    "pd.DataFrame(diff1).hist()\n",
    "plt.title('Statistic')\n",
    "plt.xlabel('Count in a Random Sample %', fontsize=15)\n",
    "plt.ylabel('Unit', fontsize=15)\n",
    "\n",
    "plt.scatter(diff, 100, color='red', s=30)\n"
   ]
  },
  {
   "cell_type": "code",
   "execution_count": null,
   "metadata": {},
   "outputs": [],
   "source": [
    "p = np.count_nonzero(diff1 <= diff) / 5000\n",
    "p\n"
   ]
  },
  {
   "cell_type": "code",
   "execution_count": 6,
   "metadata": {},
   "outputs": [
    {
     "data": {
      "text/plain": [
       "array([73, 77, 75, ..., 68, 83, 79])"
      ]
     },
     "execution_count": 6,
     "metadata": {},
     "output_type": "execute_result"
    }
   ],
   "source": [
    "color_prob = [0.75, 0.25]\n",
    "simulations = 1780\n",
    "for i in np.arange(simulations):\n",
    "    purple_count = np.random.binomial(100,0.75, 1780)\n",
    "\n",
    "purple_count"
   ]
  },
  {
   "cell_type": "markdown",
   "metadata": {},
   "source": []
  },
  {
   "cell_type": "code",
   "execution_count": null,
   "metadata": {},
   "outputs": [],
   "source": []
  },
  {
   "cell_type": "markdown",
   "metadata": {},
   "source": [
    "Question 2"
   ]
  },
  {
   "cell_type": "code",
   "execution_count": 7,
   "metadata": {},
   "outputs": [],
   "source": [
    "#Given\n",
    "n = 30\n",
    "xbar = 65.10\n",
    "mu = 60\n",
    "sigma = 13.46\n",
    "alpha = 0.05\n"
   ]
  },
  {
   "cell_type": "code",
   "execution_count": 8,
   "metadata": {},
   "outputs": [
    {
     "data": {
      "text/plain": [
       "1.9599639845400545"
      ]
     },
     "execution_count": 8,
     "metadata": {},
     "output_type": "execute_result"
    }
   ],
   "source": [
    "z_critical = abs(st.norm.ppf(alpha/2))  # two tailed\n",
    "z_critical\n"
   ]
  },
  {
   "cell_type": "code",
   "execution_count": 9,
   "metadata": {},
   "outputs": [
    {
     "data": {
      "text/plain": [
       "2.075323211943792"
      ]
     },
     "execution_count": 9,
     "metadata": {},
     "output_type": "execute_result"
    }
   ],
   "source": [
    "z = (xbar-mu)/(sigma/np.sqrt(n))\n",
    "z\n"
   ]
  },
  {
   "cell_type": "code",
   "execution_count": 10,
   "metadata": {},
   "outputs": [
    {
     "name": "stdout",
     "output_type": "stream",
     "text": [
      "Reject null hypothesis\n"
     ]
    }
   ],
   "source": [
    "if (z < z_critical and z< -z_critical): #Two tailed\n",
    "    print(\"Null hypothesis cannot be rejected\")\n",
    "else:\n",
    "    print(\"Reject null hypothesis\")\n"
   ]
  }
 ],
 "metadata": {
  "kernelspec": {
   "display_name": "Python 3.9.0 64-bit",
   "language": "python",
   "name": "python3"
  },
  "language_info": {
   "codemirror_mode": {
    "name": "ipython",
    "version": 3
   },
   "file_extension": ".py",
   "mimetype": "text/x-python",
   "name": "python",
   "nbconvert_exporter": "python",
   "pygments_lexer": "ipython3",
   "version": "3.9.0"
  },
  "orig_nbformat": 4,
  "vscode": {
   "interpreter": {
    "hash": "166549997bab83bf19a7d2a20cc64308ccdf6b6e5793eaf639d9ba6ac0bd7f6a"
   }
  }
 },
 "nbformat": 4,
 "nbformat_minor": 2
}
